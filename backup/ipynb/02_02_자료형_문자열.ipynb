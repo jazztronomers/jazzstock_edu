{
 "cells": [
  {
   "cell_type": "markdown",
   "metadata": {},
   "source": [
    "## 문자열"
   ]
  },
  {
   "cell_type": "markdown",
   "metadata": {},
   "source": [
    "#### 문자열 선언의 4가지 방식"
   ]
  },
  {
   "cell_type": "code",
   "execution_count": null,
   "metadata": {},
   "outputs": [],
   "source": [
    "dec_str_a = \"Life is too 'short', you need python\"\n",
    "dec_str_b = 'Life is too \"short\", you need python'\n",
    "dec_str_c = \"\"\"'Life is too \"short\", you need python'\"\"\"\n",
    "dec_str_d = '''\"Life is too \"short\", you need python\"'''"
   ]
  },
  {
   "cell_type": "code",
   "execution_count": null,
   "metadata": {},
   "outputs": [],
   "source": [
    "print(dec_str_a)\n",
    "print(dec_str_b)\n",
    "print(dec_str_c)\n",
    "print(dec_str_d)"
   ]
  },
  {
   "cell_type": "markdown",
   "metadata": {},
   "source": [
    "#### 문자열 더하기"
   ]
  },
  {
   "cell_type": "code",
   "execution_count": null,
   "metadata": {},
   "outputs": [],
   "source": [
    "tmp_a = \"Life is too short\"\n",
    "tmp_b = \"you need python\"\n",
    "\n",
    "print(tmp_a + tmp_b)\n",
    "print(tmp_a + ' ' + tmp_b)"
   ]
  },
  {
   "cell_type": "markdown",
   "metadata": {},
   "source": [
    "#### 문자열 포맷팅"
   ]
  },
  {
   "cell_type": "code",
   "execution_count": null,
   "metadata": {},
   "outputs": [],
   "source": [
    "the_short_thing = \"life\"\n",
    "what_we_need    = \"python\"\n",
    "\n",
    "tmp_formatting_a = \"%s is too short, you need %s\" %(the_short_thing, what_we_need)\n",
    "tmp_formatting_b = \"%\""
   ]
  },
  {
   "cell_type": "markdown",
   "metadata": {},
   "source": [
    "#### 특정 문자열 치환하기"
   ]
  },
  {
   "cell_type": "code",
   "execution_count": null,
   "metadata": {},
   "outputs": [],
   "source": [
    "_before      = \"i like jazz\"\n",
    "_what_i_like = \"classic\"\n",
    "_after       = _before.replace('jazz', _what_i_like)\n",
    "\n",
    "print(_before)\n",
    "print(_after)"
   ]
  },
  {
   "cell_type": "markdown",
   "metadata": {},
   "source": [
    "#### 출력할때 포맷팅하기"
   ]
  },
  {
   "cell_type": "code",
   "execution_count": null,
   "metadata": {},
   "outputs": [],
   "source": [
    "a_name = 'john'\n",
    "a_like = 'jazz'\n",
    "b_name = 'mark'\n",
    "b_like = 'classic'\n",
    "\n",
    "\n",
    "str_for_introduce = 'my name is %s, i like %s'\n",
    "print(str_for_introduce)\n",
    "\n",
    "str_for_introduce = 'my name is %s, i like %s'%(a_name, a_like)\n",
    "print(str_for_introduce)"
   ]
  }
 ],
 "metadata": {
  "kernelspec": {
   "display_name": "Python 3",
   "language": "python",
   "name": "python3"
  },
  "language_info": {
   "codemirror_mode": {
    "name": "ipython",
    "version": 3
   },
   "file_extension": ".py",
   "mimetype": "text/x-python",
   "name": "python",
   "nbconvert_exporter": "python",
   "pygments_lexer": "ipython3",
   "version": "3.5.2"
  }
 },
 "nbformat": 4,
 "nbformat_minor": 4
}
