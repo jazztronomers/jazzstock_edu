{
 "cells": [
  {
   "cell_type": "markdown",
   "metadata": {},
   "source": [
    "## 연습문제1\n",
    "\n",
    "특정 디렉토리의 모든 'stock' 이라는 키워드가 포함된 .csv 파일만 출력하는 스크립트를 작성하기 (함께)"
   ]
  },
  {
   "cell_type": "code",
   "execution_count": null,
   "metadata": {},
   "outputs": [],
   "source": [
    "import os\n",
    "data_abs_path = ''"
   ]
  },
  {
   "cell_type": "markdown",
   "metadata": {},
   "source": [
    "## 연습문제 2\n",
    "\n",
    "\n",
    "다음과 같이 입력을 받았을때, 예시와 같은 스트링을 \"반환 (return)\" 하는 함수작성하기\n",
    "\n",
    "\n",
    "CASE #1\n",
    "\n",
    "input: \n",
    "\n",
    "            w=2, h=2\n",
    "\n",
    "output:\n",
    "\n",
    "            0,1\n",
    "            2,3\n",
    "\n",
    "CASE #2\n",
    "\n",
    "input: \n",
    "\n",
    "            w=4, h=3\n",
    "output:\n",
    "\n",
    "            0,1,2,3\n",
    "            4,5,6,7\n",
    "            8,9,10,11\n",
    "\n",
    "CASE #3\n",
    "\n",
    "input:\n",
    "\n",
    "            w=5, h=1\n",
    "output:\n",
    "\n",
    "            0,1,2,3,4\n",
    "\n"
   ]
  },
  {
   "cell_type": "code",
   "execution_count": null,
   "metadata": {},
   "outputs": [],
   "source": [
    "def run(w,h):\n",
    "    print('입력값 WIDTH: %s, HEIGHT: %s'%(w,h))\n",
    "    result=[]\n",
    "    return result"
   ]
  },
  {
   "cell_type": "code",
   "execution_count": null,
   "metadata": {},
   "outputs": [],
   "source": [
    "print(run(2,2))\n",
    "print(run(3,5))\n",
    "print(run(5,10))"
   ]
  },
  {
   "cell_type": "code",
   "execution_count": null,
   "metadata": {},
   "outputs": [],
   "source": []
  }
 ],
 "metadata": {
  "kernelspec": {
   "display_name": "Python 3",
   "language": "python",
   "name": "python3"
  },
  "language_info": {
   "codemirror_mode": {
    "name": "ipython",
    "version": 3
   },
   "file_extension": ".py",
   "mimetype": "text/x-python",
   "name": "python",
   "nbconvert_exporter": "python",
   "pygments_lexer": "ipython3",
   "version": "3.5.2"
  }
 },
 "nbformat": 4,
 "nbformat_minor": 4
}
