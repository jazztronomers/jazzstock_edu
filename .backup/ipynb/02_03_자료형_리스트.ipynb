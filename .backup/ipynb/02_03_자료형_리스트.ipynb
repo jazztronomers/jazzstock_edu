{
 "cells": [
  {
   "cell_type": "markdown",
   "metadata": {},
   "source": [
    "## 리스트"
   ]
  },
  {
   "cell_type": "markdown",
   "metadata": {},
   "source": [
    "1.리스트는 어떻게 만들고 사용할까?<br>\n",
    "2.리스트의 인덱싱과 슬라이싱<br>\n",
    "    1.리스트의 인덱싱<br>\n",
    "    2.리스트의 슬라이싱<br>\n",
    "3.리스트 연산하기<br>\n",
    "    1.리스트 더하기(+)<br>\n",
    "    2.리스트 반복하기(*)<br>\n",
    "    3.리스트 길이구하기<br>\n",
    "4.리스트의 수정과 삭제<br>\n",
    "    1.리스트에서 값 수정하기<br>\n",
    "    2.del 함수 사용해 리스트 요소 삭제하기<br>\n",
    "리스트 관련 함수들<br>\n",
    "리스트에 요소 추가(append)<br>\n",
    "리스트 정렬(sort)<br>\n",
    "리스트 뒤집기(reverse)<br>\n",
    "위치 반환(index)<br>\n",
    "리스트에 요소 삽입(insert)<br>\n",
    "리스트 요소 제거(remove)<br>\n",
    "리스트 요소 끄집어내기(pop)<br>\n",
    "리스트에 포함된 요소 x의 개수 세기(count)<br>\n",
    "리스트 확장(extend)<br>"
   ]
  },
  {
   "cell_type": "code",
   "execution_count": null,
   "metadata": {},
   "outputs": [],
   "source": []
  },
  {
   "cell_type": "code",
   "execution_count": null,
   "metadata": {},
   "outputs": [],
   "source": [
    "#### 리스트선언\n",
    "\n",
    "ls_number = [1,2,3,4,5]\n",
    "ls_string = ['john','mike','mark']\n",
    "\n",
    "print(ls_number)\n",
    "print(ls_string)"
   ]
  },
  {
   "cell_type": "markdown",
   "metadata": {},
   "source": [
    "#### 리스트 연산"
   ]
  },
  {
   "cell_type": "code",
   "execution_count": null,
   "metadata": {},
   "outputs": [],
   "source": [
    "sum_of_list = ls_number + ls_string\n",
    "\n",
    "print(sum_of_list)"
   ]
  },
  {
   "cell_type": "markdown",
   "metadata": {},
   "source": [
    "#### 리스트의 n 번째 변수 확인하기"
   ]
  },
  {
   "cell_type": "code",
   "execution_count": null,
   "metadata": {},
   "outputs": [],
   "source": [
    "the_first_element  = ls_number[0]\n",
    "the_second_element = ls_number[1]\n",
    "the_last_element   = ls_number[-1]\n",
    "\n",
    "print(the_first_element)\n",
    "print(the_second_element)\n",
    "print(the_last_element)"
   ]
  },
  {
   "cell_type": "markdown",
   "metadata": {},
   "source": [
    "#### 리스트의 길이 확인하기"
   ]
  },
  {
   "cell_type": "code",
   "execution_count": null,
   "metadata": {},
   "outputs": [],
   "source": [
    "length_of_ls = len(ls_number)"
   ]
  },
  {
   "cell_type": "markdown",
   "metadata": {},
   "source": [
    "#### 리스트 짜르기"
   ]
  },
  {
   "cell_type": "code",
   "execution_count": null,
   "metadata": {},
   "outputs": [],
   "source": [
    "list_of_the_top_2_element  = ls_number[:2]\n",
    "list_of_the_last_2_element = ls_number[-2:]\n",
    "list_from_2_to_4_element = ls_number[2:4]\n",
    "\n",
    "print(list_of_the_top_2_element)\n",
    "print(list_of_the_last_2_element)\n",
    "print(list_from_2_to_4_element)"
   ]
  },
  {
   "cell_type": "markdown",
   "metadata": {},
   "source": [
    "#### 스트링을 리스트로?"
   ]
  },
  {
   "cell_type": "code",
   "execution_count": 26,
   "metadata": {},
   "outputs": [
    {
     "name": "stdout",
     "output_type": "stream",
     "text": [
      "['i', ' ', 'l', 'i', 'k', 'e', ' ', 'j', 'a', 'z', 'z']\n",
      "['i', 'like', 'jazz']\n"
     ]
    }
   ],
   "source": [
    "test_string = \"i like jazz\"\n",
    "\n",
    "print(list(test_string))\n",
    "print(test_string.split(' '))"
   ]
  },
  {
   "cell_type": "code",
   "execution_count": null,
   "metadata": {},
   "outputs": [],
   "source": []
  }
 ],
 "metadata": {
  "kernelspec": {
   "display_name": "Python 3",
   "language": "python",
   "name": "python3"
  },
  "language_info": {
   "codemirror_mode": {
    "name": "ipython",
    "version": 3
   },
   "file_extension": ".py",
   "mimetype": "text/x-python",
   "name": "python",
   "nbconvert_exporter": "python",
   "pygments_lexer": "ipython3",
   "version": "3.5.2"
  }
 },
 "nbformat": 4,
 "nbformat_minor": 4
}
