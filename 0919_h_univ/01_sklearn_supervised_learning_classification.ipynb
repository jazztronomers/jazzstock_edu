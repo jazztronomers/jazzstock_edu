{
 "cells": [
  {
   "cell_type": "code",
   "execution_count": null,
   "metadata": {},
   "outputs": [],
   "source": [
    "import sklearn\n",
    "import pandas as pd\n",
    "from sklearn.model_selection import train_test_split\n",
    "from sklearn.preprocessing import LabelBinarizer\n",
    "from sklearn.datasets import load_iris\n",
    "## https://scikit-learn.org/stable/datasets/index.html"
   ]
  },
  {
   "cell_type": "code",
   "execution_count": null,
   "metadata": {},
   "outputs": [],
   "source": [
    "dataset = load_iris()\n",
    "for k,v in dataset.items():\n",
    "    print(k.upper())\n",
    "    print('-'*80)\n",
    "    print(type(v))\n",
    "    print(v)\n",
    "    print('')\n",
    "    print('')"
   ]
  },
  {
   "cell_type": "code",
   "execution_count": null,
   "metadata": {},
   "outputs": [],
   "source": [
    "## LOAD DADASET\n",
    "data = dataset['data']                  # NDARRAY\n",
    "feature_names = dataset['feature_names']\n",
    "\n",
    "\n",
    "df = pd.DataFrame(data=data, columns=feature_names)\n",
    "df['target']= dataset['target']\n"
   ]
  },
  {
   "cell_type": "code",
   "execution_count": null,
   "metadata": {},
   "outputs": [],
   "source": [
    "print(df.dtypes)\n",
    "print(df)\n"
   ]
  },
  {
   "cell_type": "code",
   "execution_count": null,
   "metadata": {},
   "outputs": [],
   "source": [
    "train_x, test_x, train_y, test_y = train_test_split(df[dataset['feature_names']], df['target'], random_state=0, test_size=0.33)"
   ]
  },
  {
   "cell_type": "code",
   "execution_count": null,
   "metadata": {},
   "outputs": [],
   "source": [
    "from sklearn.tree import DecisionTreeClassifier\n",
    "from sklearn.ensemble import RandomForestClassifier\n",
    "from sklearn.ensemble import GradientBoostingClassifier\n",
    "import inspect\n",
    "\n",
    "\n",
    "for eachClassifier in [DecisionTreeClassifier, \n",
    "                      RandomForestClassifier,\n",
    "                      GradientBoostingClassifier]:\n",
    "    \n",
    "    # TRAINING (FIT)\n",
    "    er = eachClassifier().fit(train_x, train_y)\n",
    "    # print(inspect.getsource(eachRegressor().fit))\n",
    "    # VALIDATION (SCORE)\n",
    "    print(er)\n",
    "    print(\"TRAIN DATASET SCORE:\", er.score(train_x, train_y))\n",
    "    print(\"TEST  DATASET SCORE:\", er.score(test_x, test_y))\n",
    "    print(\"TEST  DATASET PREDICTION\", er.predict(test_x[:5]))\n",
    "    \n",
    "    \n",
    "    # ONE LINE PARSING LIST\n",
    "    print(\"TEST  DATASET PREDICTION\", [round(float(prd),2) for prd in  er.predict(test_x[:5])])\n",
    "    print('-'*100)"
   ]
  },
  {
   "cell_type": "code",
   "execution_count": null,
   "metadata": {},
   "outputs": [],
   "source": [
    "## https://scikit-learn.org/stable/modules/generated/sklearn.tree.DecisionTreeRegressor.html\n",
    "## https://scikit-learn.org/stable/modules/generated/sklearn.ensemble.RandomForestRegressor.html\n",
    "## https://scikit-learn.org/stable/modules/generated/sklearn.ensemble.GradientBoostingRegressor.html\n",
    "\n"
   ]
  },
  {
   "cell_type": "code",
   "execution_count": null,
   "metadata": {},
   "outputs": [],
   "source": [
    "## HYPER PARAMETER TUNING FROM SCRATCH\n",
    "\n",
    "params = {'n_estimators': 400,\n",
    "          'max_depth': 3,\n",
    "          'learning_rate': 0.04,}\n",
    "\n",
    "for ne in [100,200,400,800]:\n",
    "    for md in [3,5,7,9]:\n",
    "        for lr in [0.04, 0.01, 0.02]:\n",
    "            gbr = GradientBoostingClassifier(n_estimators=ne, max_depth=md, learning_rate=lr)\n",
    "            gbr.fit(train_x, train_y)\n",
    "            print(f\"TRAIN / TEST / {md} / {ne} / {lr} / %.3f / %.3f\" %(gbr.score(train_x, train_y), gbr.score(test_x, test_y)))\n",
    "            "
   ]
  },
  {
   "cell_type": "code",
   "execution_count": null,
   "metadata": {},
   "outputs": [],
   "source": [
    "## XGBoost VS sklearn Comparison\n",
    "from sklearn.metrics import mean_squared_error\n",
    "import xgboost as xgb\n",
    "\n",
    "params = {'n_estimators': 400,\n",
    "          'max_depth': 3,\n",
    "          'learning_rate': 0.04}\n",
    "\n",
    "\n",
    "gbc = GradientBoostingClassifier(**params)\n",
    "\n",
    "gbc.fit(train_x, train_y)\n",
    "gbc_pred_y= gbr.predict(test_x)\n",
    "\n",
    "\n",
    "xgbc = xgb.XGBClassifier(**params)\n",
    "xgbc.fit(train_x, train_y,\n",
    "         eval_set=[(test_x, test_y)],\n",
    "         eval_metric = 'merror',\n",
    "         verbose = False)\n",
    "\n",
    "xgb_pred_y = xgbc.predict(test_x)\n",
    "\n",
    "\n"
   ]
  },
  {
   "cell_type": "code",
   "execution_count": null,
   "metadata": {},
   "outputs": [],
   "source": [
    "print(gbr_pred_y[:10])\n",
    "print(xgb_pred_y[:10])"
   ]
  },
  {
   "cell_type": "code",
   "execution_count": null,
   "metadata": {},
   "outputs": [],
   "source": [
    "gbr_rmse = mean_squared_error(test_y, gbr_pred_y, squared=False)\n",
    "xgb_rmse = mean_squared_error(test_y, xgb_pred_y, squared=False)\n",
    "\n",
    "print(gbr_rmse, xgb_rmse)"
   ]
  },
  {
   "cell_type": "code",
   "execution_count": null,
   "metadata": {},
   "outputs": [],
   "source": [
    "## 이론 5분\n",
    "## https://www.slideshare.net/freepsw/boosting-bagging-vs-boosting\n"
   ]
  }
 ],
 "metadata": {
  "kernelspec": {
   "display_name": "Python 3",
   "language": "python",
   "name": "python3"
  },
  "language_info": {
   "codemirror_mode": {
    "name": "ipython",
    "version": 3
   },
   "file_extension": ".py",
   "mimetype": "text/x-python",
   "name": "python",
   "nbconvert_exporter": "python",
   "pygments_lexer": "ipython3",
   "version": "3.6.12"
  }
 },
 "nbformat": 4,
 "nbformat_minor": 4
}
