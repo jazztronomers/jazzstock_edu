{
 "cells": [
  {
   "cell_type": "code",
   "execution_count": null,
   "metadata": {},
   "outputs": [],
   "source": [
    "import os\n",
    "import numpy as np\n",
    "import cv2 as cv\n",
    "from matplotlib import pyplot as plt"
   ]
  },
  {
   "cell_type": "code",
   "execution_count": 45,
   "metadata": {},
   "outputs": [],
   "source": [
    "def show_image(image, verbose=False):\n",
    "    '''\n",
    "    numpy-array로 converted 된 이미지를 인풋으로 받으면, 노트북상에서 이미지를 표시해주는 함수\n",
    "    '''\n",
    "\n",
    "    \n",
    "    \n",
    "    img = cv.imread(image)    \n",
    "    print(img.shape)\n",
    "    plt.imshow(img)\n",
    "    plt.show()"
   ]
  },
  {
   "cell_type": "code",
   "execution_count": 46,
   "metadata": {},
   "outputs": [],
   "source": [
    "def get_all_image_file_from_directory(path, extension='png'):\n",
    "    ret = []\n",
    "    \n",
    "    for eachfile in os.listdir(path):\n",
    "        if extension in eachfile:\n",
    "            ret.append(os.path.join(path, eachfile))\n",
    "            \n",
    "    return ret"
   ]
  },
  {
   "cell_type": "code",
   "execution_count": 46,
   "metadata": {},
   "outputs": [],
   "source": [
    "def convert_whole_images_into_numpy_array(images):\n",
    "    '''\n",
    "    :params images: 복수의 이미지경로 리스트\n",
    "    :return : numpy array로 변환된 이미지\n",
    "    '''\n",
    "    \n",
    "    \n",
    "    "
   ]
  },
  {
   "cell_type": "code",
   "execution_count": 47,
   "metadata": {},
   "outputs": [],
   "source": [
    "images = get_all_image_file_from_directory(path='/workspace/jazzstock_edu/0919_h_univ/data/3/',\n",
    "                                           extension='png')"
   ]
  },
  {
   "cell_type": "code",
   "execution_count": 48,
   "metadata": {},
   "outputs": [
    {
     "name": "stdout",
     "output_type": "stream",
     "text": [
      "/workspace/jazzstock_edu/0919_h_univ/data/3/254.png\n",
      "/workspace/jazzstock_edu/0919_h_univ/data/3/203.png\n",
      "/workspace/jazzstock_edu/0919_h_univ/data/3/136.png\n",
      "/workspace/jazzstock_edu/0919_h_univ/data/3/215.png\n",
      "/workspace/jazzstock_edu/0919_h_univ/data/3/135.png\n",
      "/workspace/jazzstock_edu/0919_h_univ/data/3/228.png\n",
      "/workspace/jazzstock_edu/0919_h_univ/data/3/27.png\n",
      "/workspace/jazzstock_edu/0919_h_univ/data/3/107.png\n",
      "/workspace/jazzstock_edu/0919_h_univ/data/3/281.png\n",
      "/workspace/jazzstock_edu/0919_h_univ/data/3/255.png\n",
      "/workspace/jazzstock_edu/0919_h_univ/data/3/242.png\n",
      "/workspace/jazzstock_edu/0919_h_univ/data/3/235.png\n",
      "/workspace/jazzstock_edu/0919_h_univ/data/3/291.png\n",
      "/workspace/jazzstock_edu/0919_h_univ/data/3/30.png\n",
      "/workspace/jazzstock_edu/0919_h_univ/data/3/181.png\n",
      "/workspace/jazzstock_edu/0919_h_univ/data/3/149.png\n",
      "/workspace/jazzstock_edu/0919_h_univ/data/3/321.png\n",
      "/workspace/jazzstock_edu/0919_h_univ/data/3/207.png\n",
      "/workspace/jazzstock_edu/0919_h_univ/data/3/198.png\n",
      "/workspace/jazzstock_edu/0919_h_univ/data/3/298.png\n",
      "/workspace/jazzstock_edu/0919_h_univ/data/3/12.png\n",
      "/workspace/jazzstock_edu/0919_h_univ/data/3/250.png\n",
      "/workspace/jazzstock_edu/0919_h_univ/data/3/179.png\n",
      "/workspace/jazzstock_edu/0919_h_univ/data/3/279.png\n",
      "/workspace/jazzstock_edu/0919_h_univ/data/3/111.png\n",
      "/workspace/jazzstock_edu/0919_h_univ/data/3/157.png\n",
      "/workspace/jazzstock_edu/0919_h_univ/data/3/130.png\n",
      "/workspace/jazzstock_edu/0919_h_univ/data/3/10.png\n"
     ]
    }
   ],
   "source": [
    "# 이미지 출력하기\n",
    "for image in images:\n",
    "    print(image)"
   ]
  },
  {
   "cell_type": "code",
   "execution_count": 49,
   "metadata": {},
   "outputs": [
    {
     "name": "stdout",
     "output_type": "stream",
     "text": [
      "(28, 28, 3)\n"
     ]
    },
    {
     "data": {
      "image/png": "[encoded data removed]",
      "text/plain": [
       "<Figure size 432x288 with 1 Axes>"
      ]
     },
     "metadata": {
      "needs_background": "light"
     },
     "output_type": "display_data"
    }
   ],
   "source": [
    "show_image(images[0])"
   ]
  },
  {
   "cell_type": "code",
   "execution_count": null,
   "metadata": {},
   "outputs": [],
   "source": [
    "grayscale the image\n",
    "grayed = cv2.cvtColor(img, cv2.COLOR_BGR2GRAY)\n",
    "\n",
    "#thredshold image\n",
    "thresh = cv2.threshold(grayed, 0, 255, cv2.THRESH_BINARY_INV | cv2.THRESH_OTSU)[1]"
   ]
  }
 ],
 "metadata": {
  "kernelspec": {
   "display_name": "Python 3",
   "language": "python",
   "name": "python3"
  },
  "language_info": {
   "codemirror_mode": {
    "name": "ipython",
    "version": 3
   },
   "file_extension": ".py",
   "mimetype": "text/x-python",
   "name": "python",
   "nbconvert_exporter": "python",
   "pygments_lexer": "ipython3",
   "version": "3.6.12"
  }
 },
 "nbformat": 4,
 "nbformat_minor": 4
}
