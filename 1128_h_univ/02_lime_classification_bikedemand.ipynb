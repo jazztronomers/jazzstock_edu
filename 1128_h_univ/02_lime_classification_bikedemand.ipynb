{
 "cells": [
  {
   "cell_type": "markdown",
   "metadata": {},
   "source": [
    "Tutorial은 아래 url을 전적으로 참고하였음\n",
    "\n",
    "https://github.com/marcotcr/lime\n",
    "\n",
    "- classification 위주로 작성\n",
    "- multiclass classification 및 regression은 소스 코드가 조금 더 복잡함\n",
    "- 대표적은 classification 문제인 iris 데이터셋을 binary classification으로 수정후 결과를 생성하였음"
   ]
  },
  {
   "cell_type": "code",
   "execution_count": null,
   "metadata": {},
   "outputs": [],
   "source": [
    "import sklearn\n",
    "import pandas as pd\n",
    "from sklearn.preprocessing import LabelBinarizer\n",
    "import pandas as pd\n",
    "import xgboost as xgb\n",
    "from sklearn.model_selection import train_test_split\n",
    "from datetime import datetime"
   ]
  },
  {
   "cell_type": "code",
   "execution_count": null,
   "metadata": {},
   "outputs": [],
   "source": [
    "# 학습데이터 csv파일 경로 정의\n",
    "datatag = 'bikedemand'\n",
    "train_data_path = 'data/%s_train.csv'%(datatag)\n",
    "test_data_path  = 'data/%s_test.csv'%(datatag)"
   ]
  },
  {
   "cell_type": "code",
   "execution_count": null,
   "metadata": {},
   "outputs": [],
   "source": [
    "# CSV파일을 pandas dataframe으로 불러오기\n",
    "\n",
    "df_train = pd.read_csv(train_data_path)\n",
    "df_test = pd.read_csv(test_data_path) # BLIND DATA, FOR SUBMISSION\n",
    "\n",
    "# PRINT WHOLE COLUMNS\n",
    "print(df_train.columns)\n",
    "print(df_test.columns)\n",
    "print(df_train)\n",
    "\n",
    "\n",
    "# DEFINE FEATURE, TARGET COLUMNS\n",
    "feature = ['season', 'holiday', 'workingday', 'weather', 'temp', 'atemp', 'humidity', 'windspeed']\n",
    "target = ['target']\n",
    "\n",
    "\n",
    "print(df_train.weather.drop_duplicates())"
   ]
  },
  {
   "cell_type": "code",
   "execution_count": null,
   "metadata": {},
   "outputs": [],
   "source": [
    "# REGRESSION 데이터셋인 BIKEDEMAND를 간단하게 CLASSIFICATION 데이터셋으로 변경한다\n",
    "df_train['target'] = df_train['count']>100\n",
    "\n",
    "print(df_train)"
   ]
  },
  {
   "cell_type": "code",
   "execution_count": null,
   "metadata": {},
   "outputs": [],
   "source": [
    "# WITHOUT PREPROCESSING\n",
    "train_x, test_x, train_y, test_y = train_test_split(df_train[feature], \n",
    "                                                    df_train[target], \n",
    "                                                    random_state=0, \n",
    "                                                    test_size=0.25)"
   ]
  },
  {
   "cell_type": "code",
   "execution_count": null,
   "metadata": {},
   "outputs": [],
   "source": [
    "from sklearn.ensemble import GradientBoostingClassifier\n",
    "\n",
    "gbm = GradientBoostingClassifier().fit(train_x, train_y)\n",
    "# print(inspect.getsource(eachRegressor().fit))\n",
    "# VALIDATION (SCORE)\n",
    "print(gbm)\n",
    "print(\"TRAIN DATASET SCORE:\", gbm.score(train_x, train_y))\n",
    "print(\"TEST  DATASET SCORE:\", gbm.score(test_x, test_y))\n",
    "print(\"TEST  DATASET PREDICTION\", gbm.predict(test_x[:5]))\n",
    "\n",
    "\n",
    "# ONE LINE PARSING LIST\n",
    "print(\"TEST  DATASET PREDICTION\", [round(float(prd),2) for prd in  gbm.predict(test_x[:40])])\n",
    "print('-'*100)"
   ]
  },
  {
   "cell_type": "markdown",
   "metadata": {},
   "source": [
    "## 이상 임의의 bike demand 데이터를 이용해서 GBM CLASSIFICATION 모델 생성하였음 \n",
    "\n",
    "이하 Lime explainer 생성"
   ]
  },
  {
   "cell_type": "code",
   "execution_count": null,
   "metadata": {},
   "outputs": [],
   "source": [
    "# Tabular 데이터를 사용하여 머신러닝 모델을 구축하였으므로, LimeTabularExplainer을 사용한다\n",
    "\n",
    "from lime.lime_tabular import LimeTabularExplainer\n",
    "# from lime.lime_image import LimeImageExplainer\n",
    "\n"
   ]
  },
  {
   "cell_type": "code",
   "execution_count": null,
   "metadata": {},
   "outputs": [],
   "source": [
    "# define predict function and run predict using sample_dataframe\n",
    "\n",
    "def predict_fn(df):\n",
    "\treturn gbm.predict_proba(df)  # predict 대신 predict_proba를 사용한다\n",
    "\n",
    "# test\n",
    "prediction = predict_fn(test_x)\n",
    "print(prediction)\n",
    "\n",
    "gbm.predict(test_x)"
   ]
  },
  {
   "cell_type": "code",
   "execution_count": null,
   "metadata": {},
   "outputs": [],
   "source": [
    "LimeTabularExplainer?"
   ]
  },
  {
   "cell_type": "code",
   "execution_count": null,
   "metadata": {},
   "outputs": [],
   "source": [
    "print(train_x.dtypes)"
   ]
  },
  {
   "cell_type": "code",
   "execution_count": null,
   "metadata": {},
   "outputs": [],
   "source": [
    "explainer = LimeTabularExplainer(training_data=train_x.values, \n",
    "                                 mode='classification', \n",
    "                                 feature_names=train_x.columns, \n",
    "                                 categorical_features=[0,1,2,3],\n",
    "                                 categorical_names=['season', 'holiday', 'workingday', 'weather'],\n",
    "                                 class_names=['False','True'])"
   ]
  },
  {
   "cell_type": "code",
   "execution_count": null,
   "metadata": {},
   "outputs": [],
   "source": [
    "explanation = explainer.explain_instance(test_x.values[0], \n",
    "                                         predict_fn, \n",
    "                                         num_features=len(test_x.columns))"
   ]
  },
  {
   "cell_type": "code",
   "execution_count": null,
   "metadata": {},
   "outputs": [],
   "source": [
    "print(test_y.values[0])\n",
    "\n",
    "explanation.show_in_notebook(show_table=True)"
   ]
  },
  {
   "cell_type": "code",
   "execution_count": null,
   "metadata": {},
   "outputs": [],
   "source": [
    "explanation.as_list()  # representaion, weight"
   ]
  },
  {
   "cell_type": "code",
   "execution_count": null,
   "metadata": {},
   "outputs": [],
   "source": [
    "explanation??"
   ]
  },
  {
   "cell_type": "code",
   "execution_count": null,
   "metadata": {},
   "outputs": [],
   "source": [
    "## Explanation에 대한 해석은 아래 링크를 참조\n",
    "## https://github.com/marcotcr/lime"
   ]
  }
 ],
 "metadata": {
  "kernelspec": {
   "display_name": "Python 3",
   "language": "python",
   "name": "python3"
  },
  "language_info": {
   "codemirror_mode": {
    "name": "ipython",
    "version": 3
   },
   "file_extension": ".py",
   "mimetype": "text/x-python",
   "name": "python",
   "nbconvert_exporter": "python",
   "pygments_lexer": "ipython3",
   "version": "3.6.12"
  }
 },
 "nbformat": 4,
 "nbformat_minor": 4
}
