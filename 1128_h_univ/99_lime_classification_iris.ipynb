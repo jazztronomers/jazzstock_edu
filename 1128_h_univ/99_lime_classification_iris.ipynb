{
 "cells": [
  {
   "cell_type": "code",
   "execution_count": null,
   "metadata": {},
   "outputs": [],
   "source": [
    "import sklearn\n",
    "import pandas as pd\n",
    "from sklearn.model_selection import train_test_split\n",
    "from sklearn.preprocessing import LabelBinarizer\n",
    "from sklearn.datasets import load_iris\n",
    "## https://scikit-learn.org/stable/datasets/index.html"
   ]
  },
  {
   "cell_type": "code",
   "execution_count": null,
   "metadata": {},
   "outputs": [],
   "source": [
    "dataset = load_iris()"
   ]
  },
  {
   "cell_type": "code",
   "execution_count": null,
   "metadata": {},
   "outputs": [],
   "source": [
    "## LOAD DADASET\n",
    "data = dataset['data']                  # NDARRAY\n",
    "feature_names = dataset['feature_names']\n",
    "\n",
    "\n",
    "df = pd.DataFrame(data=data, columns=feature_names)\n",
    "df['target']= dataset['target']\n"
   ]
  },
  {
   "cell_type": "code",
   "execution_count": null,
   "metadata": {},
   "outputs": [],
   "source": [
    "# binary classifcation으로 변경하기 위해서 target columns가 0, 1인 데이터만 추렸음\n",
    "\n",
    "df = df[df.target<2]\n",
    "print(df)"
   ]
  },
  {
   "cell_type": "code",
   "execution_count": null,
   "metadata": {},
   "outputs": [],
   "source": [
    "train_x, test_x, train_y, test_y = train_test_split(df[dataset['feature_names']], df['target'], random_state=0, test_size=0.33)"
   ]
  },
  {
   "cell_type": "code",
   "execution_count": null,
   "metadata": {},
   "outputs": [],
   "source": [
    "from sklearn.ensemble import RandomForestClassifier\n",
    "import inspect\n",
    "\n",
    "\n",
    "for eachClassifier in [RandomForestClassifier]:\n",
    "    \n",
    "    # TRAINING (FIT)\n",
    "    er = eachClassifier().fit(train_x, train_y)\n",
    "    # print(inspect.getsource(eachRegressor().fit))\n",
    "    # VALIDATION (SCORE)\n",
    "    print(er)\n",
    "    print(\"TRAIN DATASET SCORE:\", er.score(train_x, train_y))\n",
    "    print(\"TEST  DATASET SCORE:\", er.score(test_x, test_y))\n",
    "    print(\"TEST  DATASET PREDICTION\", er.predict(test_x[:5]))\n",
    "    \n",
    "    \n",
    "    # ONE LINE PARSING LIST\n",
    "    print(\"TEST  DATASET PREDICTION\", [round(float(prd),2) for prd in  er.predict(test_x[:5])])\n",
    "    print('-'*100)"
   ]
  },
  {
   "cell_type": "code",
   "execution_count": null,
   "metadata": {},
   "outputs": [],
   "source": [
    "from lime.lime_tabular import LimeTabularExplainer\n",
    "# from lime.lime_image import LimeImageExplainer\n",
    "\n",
    "# Tabular 데이터 explainer 이므로 LimeTabularExplainer을 사용한다"
   ]
  },
  {
   "cell_type": "code",
   "execution_count": null,
   "metadata": {},
   "outputs": [],
   "source": [
    "# define predict function and run predict using sample_dataframe\n",
    "\n",
    "def predict_fn(df):\n",
    "\treturn er.predict_proba(df)\n",
    "\n",
    "# test\n",
    "prediction = predict_fn(test_x)\n",
    "print(prediction)"
   ]
  },
  {
   "cell_type": "code",
   "execution_count": null,
   "metadata": {},
   "outputs": [],
   "source": [
    "print(train_x.dtypes)\n",
    "print(train_y.dtypes)"
   ]
  },
  {
   "cell_type": "code",
   "execution_count": null,
   "metadata": {},
   "outputs": [],
   "source": [
    "explainer = LimeTabularExplainer(training_data=train_x.values, \n",
    "                                 mode='classification', \n",
    "                                 feature_names=train_x.columns)"
   ]
  },
  {
   "cell_type": "code",
   "execution_count": null,
   "metadata": {},
   "outputs": [],
   "source": [
    "explanation = explainer.explain_instance(test_x.values[7], \n",
    "                                         predict_fn, \n",
    "                                         num_features=len(test_x.columns))"
   ]
  },
  {
   "cell_type": "code",
   "execution_count": null,
   "metadata": {},
   "outputs": [],
   "source": [
    "explanation.show_in_notebook(show_table=True)"
   ]
  },
  {
   "cell_type": "code",
   "execution_count": null,
   "metadata": {},
   "outputs": [],
   "source": [
    "explanation = explainer.explain_instance(test_x.values[0], \n",
    "                                         predict_fn, \n",
    "                                         num_features=len(test_x.columns))"
   ]
  },
  {
   "cell_type": "code",
   "execution_count": null,
   "metadata": {},
   "outputs": [],
   "source": [
    "explanation.show_in_notebook(show_table=True)"
   ]
  },
  {
   "cell_type": "code",
   "execution_count": null,
   "metadata": {},
   "outputs": [],
   "source": [
    "explanation.as_list()"
   ]
  },
  {
   "cell_type": "code",
   "execution_count": null,
   "metadata": {},
   "outputs": [],
   "source": []
  }
 ],
 "metadata": {
  "kernelspec": {
   "display_name": "Python 3",
   "language": "python",
   "name": "python3"
  },
  "language_info": {
   "codemirror_mode": {
    "name": "ipython",
    "version": 3
   },
   "file_extension": ".py",
   "mimetype": "text/x-python",
   "name": "python",
   "nbconvert_exporter": "python",
   "pygments_lexer": "ipython3",
   "version": "3.6.12"
  }
 },
 "nbformat": 4,
 "nbformat_minor": 4
}
