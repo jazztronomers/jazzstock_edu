{
 "cells": [
  {
   "cell_type": "code",
   "execution_count": null,
   "metadata": {},
   "outputs": [],
   "source": [
    "## 공식 Document 최상단에 제공된 예제\n",
    "\n",
    "from trueskill import Rating, quality_1vs1, rate_1vs1\n",
    "alice, bob = Rating(5), Rating(500)  # assign Alice and Bob's ratings\n",
    "if quality_1vs1(alice, bob) < 0.50:\n",
    "    print('This match seems to be not so fair')\n",
    "alice, bob = rate_1vs1(alice, bob)  # update the ratings after the match"
   ]
  },
  {
   "cell_type": "code",
   "execution_count": null,
   "metadata": {},
   "outputs": [],
   "source": [
    "import trueskill"
   ]
  },
  {
   "cell_type": "code",
   "execution_count": null,
   "metadata": {},
   "outputs": [],
   "source": [
    "trueskill??"
   ]
  },
  {
   "cell_type": "code",
   "execution_count": null,
   "metadata": {},
   "outputs": [],
   "source": [
    "# random int print quality_1vs1\n",
    "import pandas as pd\n",
    "\n",
    "df = pd.DataFrame(columns=['idx', 'result'])\n",
    "\n",
    "for i in range(0,100,1):\n",
    "    \n",
    "    r1, r2 = Rating(30), Rating(i)  # assign Alice and Bob's ratings\n",
    "    quality = round(quality_1vs1(r1,r2),4)\n",
    "    rate = rate_1vs1(r1,r2)\n",
    "    print(i, rate, quality)\n",
    "    df.loc[len(df)]= [i,quality]\n",
    "\n",
    "df['result'].plot()"
   ]
  },
  {
   "cell_type": "code",
   "execution_count": null,
   "metadata": {},
   "outputs": [],
   "source": []
  }
 ],
 "metadata": {
  "kernelspec": {
   "display_name": "Python 3",
   "language": "python",
   "name": "python3"
  },
  "language_info": {
   "codemirror_mode": {
    "name": "ipython",
    "version": 3
   },
   "file_extension": ".py",
   "mimetype": "text/x-python",
   "name": "python",
   "nbconvert_exporter": "python",
   "pygments_lexer": "ipython3",
   "version": "3.6.12"
  }
 },
 "nbformat": 4,
 "nbformat_minor": 4
}
