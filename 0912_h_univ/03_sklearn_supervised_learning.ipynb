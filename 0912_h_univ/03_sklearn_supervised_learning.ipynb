{
 "cells": [
  {
   "cell_type": "code",
   "execution_count": null,
   "metadata": {},
   "outputs": [],
   "source": [
    "import sklearn\n",
    "import pandas as pd\n",
    "from sklearn.model_selection import train_test_split\n",
    "from sklearn.preprocessing import LabelBinarizer\n",
    "from sklearn.datasets import load_boston"
   ]
  },
  {
   "cell_type": "code",
   "execution_count": null,
   "metadata": {},
   "outputs": [],
   "source": [
    "boston_dataset = load_boston()\n",
    "for k,v in boston_dataset.items():\n",
    "    print(k.upper())\n",
    "    print('-'*80)\n",
    "    print(type(v))\n",
    "    print(v)\n",
    "    print('')\n",
    "    print('')"
   ]
  },
  {
   "cell_type": "code",
   "execution_count": null,
   "metadata": {},
   "outputs": [],
   "source": [
    "## LOAD DADASET\n",
    "boston_data = boston_dataset['data']                  # NDARRAY\n",
    "boston_feature_names = boston_dataset['feature_names']\n",
    "\n",
    "\n",
    "boston_df = pd.DataFrame(data=boston_data, columns=boston_feature_names)\n",
    "boston_df['price']= boston_dataset['target']\n"
   ]
  },
  {
   "cell_type": "code",
   "execution_count": null,
   "metadata": {},
   "outputs": [],
   "source": [
    "print(boston_df)"
   ]
  },
  {
   "cell_type": "code",
   "execution_count": null,
   "metadata": {},
   "outputs": [],
   "source": [
    "train_x, test_x, train_y, test_y = train_test_split(boston_df[boston_dataset['feature_names']], boston_df['price'], random_state=0, test_size=0.33)"
   ]
  },
  {
   "cell_type": "code",
   "execution_count": null,
   "metadata": {},
   "outputs": [],
   "source": [
    "## LINEAR REGRESSION\n",
    "from sklearn.linear_model import LinearRegression\n",
    "\n",
    "\n",
    "lr = LinearRegression().fit(train_x, train_y)\n",
    "print(lr.score(train_x, train_y))\n",
    "print(lr.score(test_x, test_y))   # LR SCORE : R2 SCORE "
   ]
  },
  {
   "cell_type": "code",
   "execution_count": null,
   "metadata": {},
   "outputs": [],
   "source": [
    "# R2 SCORE 에 대한 해석 KR : https://blog.naver.com/lingua/221525365004\n",
    "\n",
    "??lr.score"
   ]
  },
  {
   "cell_type": "code",
   "execution_count": null,
   "metadata": {},
   "outputs": [],
   "source": [
    "from sklearn.tree import DecisionTreeRegressor\n",
    "from sklearn.ensemble import RandomForestRegressor\n",
    "from sklearn.ensemble import GradientBoostingRegressor\n",
    "import inspect\n",
    "\n",
    "\n",
    "for eachRegressor in [LinearRegression,\n",
    "                      DecisionTreeRegressor, \n",
    "                      RandomForestRegressor,\n",
    "                      GradientBoostingRegressor]:\n",
    "    \n",
    "    # TRAINING (FIT)\n",
    "    er = eachRegressor().fit(train_x, train_y)\n",
    "    # print(inspect.getsource(eachRegressor().fit))\n",
    "    # VALIDATION (SCORE)\n",
    "    print(er)\n",
    "    print(\"TRAIN DATASET SCORE:\", er.score(train_x, train_y))\n",
    "    print(\"TEST  DATASET SCORE:\", er.score(test_x, test_y))\n",
    "    print(\"TEST  DATASET PREDICTION\", er.predict(test_x[:5]))\n",
    "    \n",
    "    \n",
    "    # ONE LINE PARSING LIST\n",
    "    print(\"TEST  DATASET PREDICTION\", [round(float(prd),2) for prd in  er.predict(test_x[:5])])\n",
    "    print('-'*100)"
   ]
  },
  {
   "cell_type": "code",
   "execution_count": null,
   "metadata": {},
   "outputs": [],
   "source": [
    "## https://scikit-learn.org/stable/modules/generated/sklearn.tree.DecisionTreeRegressor.html\n",
    "## https://scikit-learn.org/stable/modules/generated/sklearn.ensemble.RandomForestRegressor.html\n",
    "## https://scikit-learn.org/stable/modules/generated/sklearn.ensemble.GradientBoostingRegressor.html\n",
    "\n"
   ]
  },
  {
   "cell_type": "code",
   "execution_count": null,
   "metadata": {},
   "outputs": [],
   "source": [
    "params = {'n_estimators': 500,\n",
    "          'max_depth': 4,\n",
    "          'min_samples_split': 5,\n",
    "          'learning_rate': 0.01,\n",
    "          'loss': 'ls'}\n",
    "\n",
    "gbr = GradientBoostingRegressor(**params)\n",
    "gbr = GradientBoostingRegressor(n_estimators=500, max_depth=4, min_samples_split=5, learning_rate=0.01, loss='ls')\n",
    "\n",
    "gbr.fit(train_x, train_y)\n",
    "print(\"TRAIN DATASET SCORE:\", gbr.score(train_x, train_y))\n",
    "print(\"TEST  DATASET SCORE:\", gbr.score(test_x, test_y))"
   ]
  },
  {
   "cell_type": "code",
   "execution_count": null,
   "metadata": {},
   "outputs": [],
   "source": [
    "## HYPER PARAMETER TUNING FROM SCRATCH\n",
    "\n",
    "params = {'n_estimators': 400,\n",
    "          'max_depth': 3,\n",
    "          'learning_rate': 0.04,}\n",
    "\n",
    "for ne in [100,200,400,800]:\n",
    "    for md in [3,5,7,9]:\n",
    "        for lr in [0.04, 0.01, 0.02]:\n",
    "            gbr = GradientBoostingRegressor(n_estimators=ne, max_depth=md, learning_rate=lr)\n",
    "            gbr.fit(train_x, train_y)\n",
    "            print(f\"TRAIN / TEST / {md} / {ne} / {lr} / %.3f / %.3f\" %(gbr.score(train_x, train_y), gbr.score(test_x, test_y)))\n",
    "            "
   ]
  },
  {
   "cell_type": "code",
   "execution_count": null,
   "metadata": {},
   "outputs": [],
   "source": [
    "## XGBoost VS sklearn Comparison\n",
    "from sklearn.metrics import mean_squared_error\n",
    "import xgboost as xgb\n",
    "\n",
    "params = {'n_estimators': 400,\n",
    "          'max_depth': 3,\n",
    "          'learning_rate': 0.04}\n",
    "\n",
    "\n",
    "gbr = GradientBoostingRegressor(**params)\n",
    "\n",
    "gbr.fit(train_x, train_y)\n",
    "gbr_pred_y= gbr.predict(test_x)\n",
    "\n",
    "\n",
    "xgbr = xgb.XGBRegressor(**params)\n",
    "xgbr.fit(train_x, train_y,\n",
    "         eval_set=[(test_x, test_y)],\n",
    "         eval_metric = 'rmse',\n",
    "         verbose = False)\n",
    "\n",
    "xgb_pred_y = xgbr.predict(test_x)\n",
    "\n",
    "\n"
   ]
  },
  {
   "cell_type": "code",
   "execution_count": null,
   "metadata": {},
   "outputs": [],
   "source": [
    "print(gbr_pred_y[:10])\n",
    "print(xgb_pred_y[:10])"
   ]
  },
  {
   "cell_type": "code",
   "execution_count": null,
   "metadata": {},
   "outputs": [],
   "source": [
    "gbr_rmse = mean_squared_error(test_y, gbr_pred_y, squared=False)\n",
    "xgb_rmse = mean_squared_error(test_y, xgb_pred_y, squared=False)\n",
    "\n",
    "print(gbr_rmse, xgb_rmse)"
   ]
  },
  {
   "cell_type": "code",
   "execution_count": null,
   "metadata": {},
   "outputs": [],
   "source": [
    "## 이론 5분\n",
    "## https://www.slideshare.net/freepsw/boosting-bagging-vs-boosting\n"
   ]
  }
 ],
 "metadata": {
  "kernelspec": {
   "display_name": "Python 3",
   "language": "python",
   "name": "python3"
  },
  "language_info": {
   "codemirror_mode": {
    "name": "ipython",
    "version": 3
   },
   "file_extension": ".py",
   "mimetype": "text/x-python",
   "name": "python",
   "nbconvert_exporter": "python",
   "pygments_lexer": "ipython3",
   "version": "3.6.12"
  }
 },
 "nbformat": 4,
 "nbformat_minor": 4
}
