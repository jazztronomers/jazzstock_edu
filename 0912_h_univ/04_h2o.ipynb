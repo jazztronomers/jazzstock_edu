{
 "cells": [
  {
   "cell_type": "code",
   "execution_count": null,
   "metadata": {},
   "outputs": [],
   "source": [
    "import sklearn\n",
    "import pandas as pd\n",
    "from sklearn.model_selection import train_test_split\n",
    "from sklearn.preprocessing import LabelBinarizer\n",
    "from sklearn.datasets import load_boston"
   ]
  },
  {
   "cell_type": "code",
   "execution_count": null,
   "metadata": {},
   "outputs": [],
   "source": [
    "import h2o\n",
    "from h2o.automl import H2OAutoML\n",
    "h2o.init()"
   ]
  },
  {
   "cell_type": "code",
   "execution_count": null,
   "metadata": {},
   "outputs": [],
   "source": [
    "## LOAD DADASET\n",
    "boston_dataset = load_boston()\n",
    "boston_data = boston_dataset['data']                  # NDARRAY\n",
    "boston_feature_names = boston_dataset['feature_names']\n",
    "boston_df = pd.DataFrame(data=boston_data, columns=boston_feature_names)\n",
    "boston_df['price']= boston_dataset['target']\n",
    "\n",
    "\n",
    "train_x, test_x, train_y, test_y = train_test_split(boston_df[boston_dataset['feature_names']], boston_df['price'], random_state=0, test_size=0.33)\n",
    "\n",
    "\n",
    "\n",
    "train_df = train_x.copy()\n",
    "train_df['price']=train_y\n",
    "\n",
    "\n",
    "test_df = test_x.copy()\n",
    "test_df['price']=test_y"
   ]
  },
  {
   "cell_type": "code",
   "execution_count": null,
   "metadata": {},
   "outputs": [],
   "source": [
    "## H2O FRAME으로 변환\n",
    "train_hf = h2o.H2OFrame(train_df)\n",
    "test_hf = h2o.H2OFrame(test_df)\n",
    "target_col = 'price'\n",
    "feature_col = hf.columns.remove(target_col)\n"
   ]
  },
  {
   "cell_type": "code",
   "execution_count": null,
   "metadata": {},
   "outputs": [],
   "source": [
    "## H2O AUTOML 객체 생성\n",
    "\n",
    "aml = H2OAutoML(max_models=10,\n",
    "               nfolds=4,\n",
    "               exclude_algos=['DeepLearning'],\n",
    "               keep_cross_validation_predictions=True,\n",
    "               seed=5)"
   ]
  },
  {
   "cell_type": "code",
   "execution_count": null,
   "metadata": {},
   "outputs": [],
   "source": [
    "## 학습진행\n",
    "aml.train(x=feature_col,\n",
    "         y=target_col,\n",
    "         training_frame=train_hf,\n",
    "         leaderboard_frame=test_hf)"
   ]
  },
  {
   "cell_type": "code",
   "execution_count": null,
   "metadata": {},
   "outputs": [],
   "source": [
    "print(aml.leaderboard)"
   ]
  },
  {
   "cell_type": "code",
   "execution_count": null,
   "metadata": {},
   "outputs": [],
   "source": [
    "# 동일기준으로 검증\n",
    "\n",
    "from sklearn.metrics import mean_squared_error\n",
    "\n",
    "h_pred = aml.predict(test_hf).as_data_frame()\n",
    "\n",
    "mean_squared_error(test_y, h_pred, squared=False)"
   ]
  },
  {
   "cell_type": "code",
   "execution_count": null,
   "metadata": {},
   "outputs": [],
   "source": [
    "aml.leader"
   ]
  },
  {
   "cell_type": "code",
   "execution_count": null,
   "metadata": {},
   "outputs": [],
   "source": []
  }
 ],
 "metadata": {
  "kernelspec": {
   "display_name": "Python 3",
   "language": "python",
   "name": "python3"
  },
  "language_info": {
   "codemirror_mode": {
    "name": "ipython",
    "version": 3
   },
   "file_extension": ".py",
   "mimetype": "text/x-python",
   "name": "python",
   "nbconvert_exporter": "python",
   "pygments_lexer": "ipython3",
   "version": "3.6.12"
  }
 },
 "nbformat": 4,
 "nbformat_minor": 4
}
