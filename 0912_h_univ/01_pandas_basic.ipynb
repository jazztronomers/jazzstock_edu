{
 "cells": [
  {
   "cell_type": "code",
   "execution_count": null,
   "metadata": {},
   "outputs": [],
   "source": [
    "import pandas as pd\n",
    "import os\n",
    "import datetime\n",
    "\n",
    "pd.options.display.max_rows = 500\n",
    "pd.options.display.max_columns= 500\n",
    "pd.options.display.expand_frame_repr=False"
   ]
  },
  {
   "cell_type": "code",
   "execution_count": null,
   "metadata": {},
   "outputs": [],
   "source": [
    "# csv파일 경로 정의\n",
    "\n",
    "datatag = 'bikedemand'\n",
    "\n",
    "train_data_path = 'data/%s_train.csv'%(datatag)\n",
    "test_data_path  = 'data/%s_test.csv'%(datatag)"
   ]
  },
  {
   "cell_type": "code",
   "execution_count": null,
   "metadata": {},
   "outputs": [],
   "source": [
    "?pd.read_csv"
   ]
  },
  {
   "cell_type": "code",
   "execution_count": null,
   "metadata": {},
   "outputs": [],
   "source": [
    "# CSV파일을 pandas dataframe으로 불러오기\n",
    "\n",
    "df_train = pd.read_csv(train_data_path)\n",
    "df_test = pd.read_csv(test_data_path)"
   ]
  },
  {
   "cell_type": "code",
   "execution_count": null,
   "metadata": {},
   "outputs": [],
   "source": [
    "# dataset 위아래로 몇줄씩만 출력하기\n",
    "\n",
    "print(df_train.head(5))\n",
    "print(df_train.tail(5))"
   ]
  },
  {
   "cell_type": "code",
   "execution_count": null,
   "metadata": {},
   "outputs": [],
   "source": [
    "## 특정컬럼 데이터만 출력하기\n",
    "\n",
    "print(df_train[['datetime', 'holiday','season']].head(5))\n",
    "print(df_train[['holiday','season']].head(5))\n",
    "print(df_train['holiday'].head(5))"
   ]
  },
  {
   "cell_type": "code",
   "execution_count": null,
   "metadata": {},
   "outputs": [],
   "source": [
    "# dataset numeric 컬럼 한정 모양 살펴보기\n",
    "\n",
    "df_train_describe = df_train.describe()\n",
    "df_test_describe = df_test.describe()\n",
    "\n",
    "print(df_train_describe)\n",
    "print(df_test_describe)"
   ]
  },
  {
   "cell_type": "code",
   "execution_count": null,
   "metadata": {},
   "outputs": [],
   "source": [
    "## For loop 으로 한줄한줄씩 출력하기\n",
    "\n",
    "\n",
    "# .values : dataframe을 단순 numpy 자료형으로 변환\n",
    "for eachrow in df_train.head(5).values:\n",
    "    print(type(eachrow), eachrow)\n",
    "    print(type(eachrow.tolist()), eachrow.tolist())\n",
    "    print('')\n",
    "    \n",
    "# .iterrows : dataframe의 한줄한줄을 pd.series 형태로 변환하여 출력, 성능 안좋음.\n",
    "for i, eachrow in df_train.head(5).iterrows():\n",
    "    print(eachrow)\n",
    "    print(eachrow.temp)\n",
    "    print(eachrow['temp'])\n",
    "    print('')\n",
    "    \n",
    "    \n",
    "## 같이 구현해보기 : 성능은 어떻게 비교 ????????????\n",
    "## 같이 구현해보기 : 성능은 어떻게 비교 ????????????\n",
    "## 같이 구현해보기 : 성능은 어떻게 비교 ????????????\n",
    "## 같이 구현해보기 : 성능은 어떻게 비교 ????????????"
   ]
  },
  {
   "cell_type": "code",
   "execution_count": null,
   "metadata": {},
   "outputs": [],
   "source": [
    "# 조건문 직접 구현하기 + enumerate\n",
    "\n",
    "for i, eachrow in enumerate(df_train.head(50).values):\n",
    "    if eachrow[5] > 0 and eachrow[5] < 10:\n",
    "        print(i, eachrow)"
   ]
  },
  {
   "cell_type": "code",
   "execution_count": null,
   "metadata": {},
   "outputs": [],
   "source": [
    "# data filter #1 단일조건문\n",
    "\n",
    "df_train_filterd_1 = df_train[df_train['temp']>20]\n",
    "print(df_train_filterd_1)\n",
    "print(df_train_filterd_1.describe())"
   ]
  },
  {
   "cell_type": "code",
   "execution_count": null,
   "metadata": {},
   "outputs": [],
   "source": [
    "# data filter #2 복수조건문 and\n",
    "\n",
    "df_train_filterd_2 = df_train[(df_train['temp']>20) & (df_train['temp']<30) ]\n",
    "print(df_train_filterd_2)\n",
    "print(df_train_filterd_2.describe())"
   ]
  },
  {
   "cell_type": "code",
   "execution_count": null,
   "metadata": {},
   "outputs": [],
   "source": [
    "# data filter #3 복수조건문 or\n",
    "\n",
    "df_train_filterd_3 = df_train[(df_train['temp']<20) | (df_train['temp']>30) ]\n",
    "print(df_train_filterd_3)\n",
    "print(df_train_filterd_3.describe())"
   ]
  },
  {
   "cell_type": "code",
   "execution_count": null,
   "metadata": {},
   "outputs": [],
   "source": [
    "# data filter #4 복수조건문 and or 결합\n",
    "\n",
    "df_train_filterd_4 = df_train[((df_train['temp']<20) | (df_train['temp']>30)) & (df_train['workingday']==0) ]\n",
    "print(df_train_filterd_4)\n",
    "print(df_train_filterd_4.describe())"
   ]
  },
  {
   "cell_type": "code",
   "execution_count": null,
   "metadata": {},
   "outputs": [],
   "source": [
    "# 기존 컬럼들을 가공해서 새로운 컬럼 만들기\n",
    "\n",
    "\n",
    "df_train_copy = df_train.copy()\n",
    "\n",
    "# MIN MAX 스케일링온도값 만들어주기\n",
    "df_train_copy['temperature_minmax_scaled']=  (df_train_copy['temp'] - df_train_copy['temp'].min()) / (df_train_copy['temp'].max() - df_train_copy['temp'].min())\n",
    "\n",
    "# 임의값 만들어주기\n",
    "df_train_copy['custom_string'] = 'C U S T O M'\n",
    "\n",
    "print('최고온도', df_train_copy['temp'].max())\n",
    "print('최저온도', df_train_copy['temp'].min())\n",
    "print('')\n",
    "\n",
    "# STRING FORMATTING\n",
    "print('최고온도 %s'%(df_train_copy['temp'].max()))\n",
    "print('최저온도 %s'%(df_train_copy['temp'].min()))\n",
    "print('')\n",
    "\n",
    "\n",
    "print(df_train_copy[['temp', 'temperature_minmax_scaled', 'custom_string']].head(20))\n"
   ]
  }
 ],
 "metadata": {
  "kernelspec": {
   "display_name": "Python 3",
   "language": "python",
   "name": "python3"
  },
  "language_info": {
   "codemirror_mode": {
    "name": "ipython",
    "version": 3
   },
   "file_extension": ".py",
   "mimetype": "text/x-python",
   "name": "python",
   "nbconvert_exporter": "python",
   "pygments_lexer": "ipython3",
   "version": "3.6.12"
  }
 },
 "nbformat": 4,
 "nbformat_minor": 4
}
