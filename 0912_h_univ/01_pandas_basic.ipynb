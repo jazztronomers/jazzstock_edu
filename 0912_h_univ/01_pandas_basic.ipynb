{
 "cells": [
  {
   "cell_type": "code",
   "execution_count": 1,
   "metadata": {},
   "outputs": [],
   "source": [
    "import pandas as pd\n",
    "import os\n",
    "import datetime\n",
    "\n",
    "\n",
    "\n",
    "pd.options.display.max_rows = 500\n",
    "pd.options.display.max_columns= 500\n",
    "pd.options.display.expand_frame_repr=False"
   ]
  },
  {
   "cell_type": "code",
   "execution_count": 3,
   "metadata": {},
   "outputs": [
    {
     "name": "stdout",
     "output_type": "stream",
     "text": [
      "data/bikedemand_train.csv\n"
     ]
    }
   ],
   "source": [
    "# csv파일 경로 정의\n",
    "\n",
    "datatag = 'bikedemand'\n",
    "\n",
    "train_data_path = 'data/%s_train.csv'%(datatag)\n",
    "test_data_path  = 'data/%s_test.csv'%(datatag)\n",
    "\n",
    "print(train_data_path)"
   ]
  },
  {
   "cell_type": "code",
   "execution_count": null,
   "metadata": {},
   "outputs": [],
   "source": [
    "?pd.read_excel"
   ]
  },
  {
   "cell_type": "code",
   "execution_count": 9,
   "metadata": {},
   "outputs": [],
   "source": [
    "# CSV파일을 pandas dataframe으로 불러오기\n",
    "\n",
    "df_train = pd.read_csv(train_data_path)\n",
    "df_test = pd.read_csv(test_data_path)"
   ]
  },
  {
   "cell_type": "code",
   "execution_count": 10,
   "metadata": {},
   "outputs": [
    {
     "name": "stdout",
     "output_type": "stream",
     "text": [
      "              datetime  season  holiday  workingday  weather  temp   atemp  humidity  windspeed  casual  registered  count\n",
      "0  2011-01-01 00:00:00       1        0           0        1  9.84  14.395        81        0.0       3          13     16\n",
      "1  2011-01-01 01:00:00       1        0           0        1  9.02  13.635        80        0.0       8          32     40\n",
      "2  2011-01-01 02:00:00       1        0           0        1  9.02  13.635        80        0.0       5          27     32\n",
      "3  2011-01-01 03:00:00       1        0           0        1  9.84  14.395        75        0.0       3          10     13\n",
      "4  2011-01-01 04:00:00       1        0           0        1  9.84  14.395        75        0.0       0           1      1\n",
      "                  datetime  season  holiday  workingday  weather   temp   atemp  humidity  windspeed  casual  registered  count\n",
      "10881  2012-12-19 19:00:00       4        0           1        1  15.58  19.695        50    26.0027       7         329    336\n",
      "10882  2012-12-19 20:00:00       4        0           1        1  14.76  17.425        57    15.0013      10         231    241\n",
      "10883  2012-12-19 21:00:00       4        0           1        1  13.94  15.910        61    15.0013       4         164    168\n",
      "10884  2012-12-19 22:00:00       4        0           1        1  13.94  17.425        61     6.0032      12         117    129\n",
      "10885  2012-12-19 23:00:00       4        0           1        1  13.12  16.665        66     8.9981       4          84     88\n"
     ]
    }
   ],
   "source": [
    "# dataset 위아래로 몇줄씩만 출력하기\n",
    "\n",
    "print(df_train.head(5))\n",
    "print(df_train.tail(5))\n",
    "\n"
   ]
  },
  {
   "cell_type": "code",
   "execution_count": 12,
   "metadata": {},
   "outputs": [
    {
     "name": "stdout",
     "output_type": "stream",
     "text": [
      "              datetime  holiday  season\n",
      "0  2011-01-01 00:00:00        0       1\n",
      "1  2011-01-01 01:00:00        0       1\n",
      "2  2011-01-01 02:00:00        0       1\n",
      "3  2011-01-01 03:00:00        0       1\n",
      "4  2011-01-01 04:00:00        0       1\n",
      "   holiday  season\n",
      "0        0       1\n",
      "1        0       1\n",
      "2        0       1\n",
      "3        0       1\n",
      "4        0       1\n",
      "0    0\n",
      "1    0\n",
      "2    0\n",
      "3    0\n",
      "4    0\n",
      "Name: holiday, dtype: int64\n",
      "       holiday  season\n",
      "10881        0       4\n",
      "10882        0       4\n",
      "10883        0       4\n",
      "10884        0       4\n",
      "10885        0       4\n"
     ]
    }
   ],
   "source": [
    "## 특정컬럼 데이터만 출력하기\n",
    "\n",
    "print(df_train[['datetime', 'holiday','season']].head(5))\n",
    "\n",
    "\n",
    "print(df_train[['holiday','season']].head(5))\n",
    "\n",
    "\n",
    "print(df_train['holiday'].head(5))\n",
    "\n",
    "\n",
    "\n",
    "\n",
    "print(df_train.tail(5)[['holiday','season']])\n",
    "\n"
   ]
  },
  {
   "cell_type": "code",
   "execution_count": 17,
   "metadata": {},
   "outputs": [
    {
     "name": "stdout",
     "output_type": "stream",
     "text": [
      "             season       holiday    workingday       weather         temp         atemp      humidity     windspeed        casual    registered         count\n",
      "count  10886.000000  10886.000000  10886.000000  10886.000000  10886.00000  10886.000000  10886.000000  10886.000000  10886.000000  10886.000000  10886.000000\n",
      "mean       2.506614      0.028569      0.680875      1.418427     20.23086     23.655084     61.886460     12.799395     36.021955    155.552177    191.574132\n",
      "std        1.116174      0.166599      0.466159      0.633839      7.79159      8.474601     19.245033      8.164537     49.960477    151.039033    181.144454\n",
      "min        1.000000      0.000000      0.000000      1.000000      0.82000      0.760000      0.000000      0.000000      0.000000      0.000000      1.000000\n",
      "25%        2.000000      0.000000      0.000000      1.000000     13.94000     16.665000     47.000000      7.001500      4.000000     36.000000     42.000000\n",
      "50%        3.000000      0.000000      1.000000      1.000000     20.50000     24.240000     62.000000     12.998000     17.000000    118.000000    145.000000\n",
      "75%        4.000000      0.000000      1.000000      2.000000     26.24000     31.060000     77.000000     16.997900     49.000000    222.000000    284.000000\n",
      "max        4.000000      1.000000      1.000000      4.000000     41.00000     45.455000    100.000000     56.996900    367.000000    886.000000    977.000000\n",
      "            season      holiday   workingday      weather         temp        atemp     humidity    windspeed\n",
      "count  6493.000000  6493.000000  6493.000000  6493.000000  6493.000000  6493.000000  6493.000000  6493.000000\n",
      "mean      2.493300     0.029108     0.685815     1.436778    20.620607    24.012865    64.125212    12.631157\n",
      "std       1.091258     0.168123     0.464226     0.648390     8.059583     8.782741    19.293391     8.250151\n",
      "min       1.000000     0.000000     0.000000     1.000000     0.820000     0.000000    16.000000     0.000000\n",
      "25%       2.000000     0.000000     0.000000     1.000000    13.940000    16.665000    49.000000     7.001500\n",
      "50%       3.000000     0.000000     1.000000     1.000000    21.320000    25.000000    65.000000    11.001400\n",
      "75%       3.000000     0.000000     1.000000     2.000000    27.060000    31.060000    81.000000    16.997900\n",
      "max       4.000000     1.000000     1.000000     4.000000    40.180000    50.000000   100.000000    55.998600\n"
     ]
    }
   ],
   "source": [
    "# dataset numeric 컬럼 한정 모양 살펴보기\n",
    "\n",
    "df_train_describe = df_train.describe()\n",
    "df_test_describe = df_test.describe()\n",
    "\n",
    "print(df_train_describe)\n",
    "print(df_test_describe)"
   ]
  },
  {
   "cell_type": "code",
   "execution_count": 16,
   "metadata": {},
   "outputs": [
    {
     "data": {
      "text/plain": [
       "0        0\n",
       "1        0\n",
       "2        0\n",
       "3        0\n",
       "4        0\n",
       "        ..\n",
       "10881    0\n",
       "10882    0\n",
       "10883    0\n",
       "10884    0\n",
       "10885    0\n",
       "Name: holiday, Length: 10886, dtype: int64"
      ]
     },
     "execution_count": 16,
     "metadata": {},
     "output_type": "execute_result"
    }
   ],
   "source": []
  },
  {
   "cell_type": "code",
   "execution_count": 23,
   "metadata": {},
   "outputs": [
    {
     "name": "stdout",
     "output_type": "stream",
     "text": [
      "0:00:00.003381\n",
      "0:00:00.327103\n"
     ]
    }
   ],
   "source": [
    "## For loop 으로 한줄한줄씩 출력하기\n",
    "\n",
    "\n",
    "# .values : dataframe을 단순 numpy 자료형으로 변환\n",
    "\n",
    "start_time=datetime.datetime.now()\n",
    "\n",
    "for eachrow in df_train.head(50).values:\n",
    "    \n",
    "    pass\n",
    "\n",
    "\n",
    "#     print(type(eachrow), eachrow)\n",
    "#     print(type(eachrow.tolist()), eachrow.tolist())\n",
    "#     print('')\n",
    "    \n",
    "\n",
    "print(datetime.datetime.now()-start_time)\n",
    "\n"
   ]
  },
  {
   "cell_type": "code",
   "execution_count": 28,
   "metadata": {},
   "outputs": [
    {
     "name": "stdout",
     "output_type": "stream",
     "text": [
      "['2011-01-01 00:00:00' 1 0 0 1 9.84 14.395 81 0.0 3 13 16]\n",
      "['2011-01-01 01:00:00' 1 0 0 1 9.02 13.635 80 0.0 8 32 40]\n",
      "['2011-01-01 02:00:00' 1 0 0 1 9.02 13.635 80 0.0 5 27 32]\n",
      "['2011-01-01 03:00:00' 1 0 0 1 9.84 14.395 75 0.0 3 10 13]\n",
      "['2011-01-01 04:00:00' 1 0 0 1 9.84 14.395 75 0.0 0 1 1]\n",
      "['2011-01-01 05:00:00' 1 0 0 2 9.84 12.88 75 6.0032 0 1 1]\n",
      "['2011-01-01 06:00:00' 1 0 0 1 9.02 13.635 80 0.0 2 0 2]\n",
      "['2011-01-01 07:00:00' 1 0 0 1 8.2 12.88 86 0.0 1 2 3]\n",
      "['2011-01-01 08:00:00' 1 0 0 1 9.84 14.395 75 0.0 1 7 8]\n",
      "----------------------------\n",
      "['2011-01-01 00:00:00' 1 0 0 1 9.84 14.395 81 0.0 3 13 16]\n",
      "0 ['2011-01-01 00:00:00' 1 0 0 1 9.84 14.395 81 0.0 3 13 16]\n",
      "['2011-01-01 01:00:00' 1 0 0 1 9.02 13.635 80 0.0 8 32 40]\n",
      "1 ['2011-01-01 01:00:00' 1 0 0 1 9.02 13.635 80 0.0 8 32 40]\n",
      "['2011-01-01 02:00:00' 1 0 0 1 9.02 13.635 80 0.0 5 27 32]\n",
      "2 ['2011-01-01 02:00:00' 1 0 0 1 9.02 13.635 80 0.0 5 27 32]\n",
      "['2011-01-01 03:00:00' 1 0 0 1 9.84 14.395 75 0.0 3 10 13]\n",
      "3 ['2011-01-01 03:00:00' 1 0 0 1 9.84 14.395 75 0.0 3 10 13]\n",
      "['2011-01-01 04:00:00' 1 0 0 1 9.84 14.395 75 0.0 0 1 1]\n",
      "4 ['2011-01-01 04:00:00' 1 0 0 1 9.84 14.395 75 0.0 0 1 1]\n",
      "['2011-01-01 05:00:00' 1 0 0 2 9.84 12.88 75 6.0032 0 1 1]\n",
      "5 ['2011-01-01 05:00:00' 1 0 0 2 9.84 12.88 75 6.0032 0 1 1]\n",
      "['2011-01-01 06:00:00' 1 0 0 1 9.02 13.635 80 0.0 2 0 2]\n",
      "6 ['2011-01-01 06:00:00' 1 0 0 1 9.02 13.635 80 0.0 2 0 2]\n",
      "['2011-01-01 07:00:00' 1 0 0 1 8.2 12.88 86 0.0 1 2 3]\n",
      "7 ['2011-01-01 07:00:00' 1 0 0 1 8.2 12.88 86 0.0 1 2 3]\n",
      "['2011-01-01 08:00:00' 1 0 0 1 9.84 14.395 75 0.0 1 7 8]\n",
      "8 ['2011-01-01 08:00:00' 1 0 0 1 9.84 14.395 75 0.0 1 7 8]\n",
      "['2011-01-01 09:00:00' 1 0 0 1 13.12 17.425 76 0.0 8 6 14]\n"
     ]
    }
   ],
   "source": [
    "# 조건문 직접 구현하기 + enumerate\n",
    "\n",
    "for eachrow in df_train.head(10).values:\n",
    "    if eachrow[5] > 0 and eachrow[5] < 10:\n",
    "        print(eachrow)\n",
    "    \n",
    "print('----------------------------')\n",
    "\n",
    "for i, eachrow in enumerate(df_train.head(10).values):\n",
    "    \n",
    "    print(eachrow)\n",
    "    \n",
    "    # ['2011-01-01 00:00:00' 1 0 0 1 9.84 14.395 81 0.0 3 13 16]\n",
    "    if eachrow[5] > 0 and eachrow[5] < 10:\n",
    "        print(i, eachrow)"
   ]
  },
  {
   "cell_type": "code",
   "execution_count": 29,
   "metadata": {},
   "outputs": [
    {
     "name": "stdout",
     "output_type": "stream",
     "text": [
      "                  datetime  season  holiday  workingday  weather   temp   atemp  humidity  windspeed  casual  registered  count\n",
      "746    2011-02-14 11:00:00       1        0           1        1  21.32  25.000        23    16.9979      10          43     53\n",
      "747    2011-02-14 12:00:00       1        0           1        1  22.96  26.515        22    30.0026      27          99    126\n",
      "748    2011-02-14 13:00:00       1        0           1        1  23.78  27.275        19    26.0027      27          93    120\n",
      "749    2011-02-14 14:00:00       1        0           1        1  24.60  29.545        15    32.9975      14          76     90\n",
      "750    2011-02-14 15:00:00       1        0           1        1  22.96  26.515        21    43.9989      19          71     90\n",
      "...                    ...     ...      ...         ...      ...    ...     ...       ...        ...     ...         ...    ...\n",
      "10661  2012-12-10 15:00:00       4        0           1        2  20.50  24.240        87    11.0014      29         207    236\n",
      "10662  2012-12-10 16:00:00       4        0           1        2  20.50  24.240        88     7.0015      37         308    345\n",
      "10665  2012-12-10 19:00:00       4        0           1        1  21.32  25.000        77    19.0012      18         409    427\n",
      "10668  2012-12-10 22:00:00       4        0           1        2  20.50  24.240        82    15.0013      11         115    126\n",
      "10851  2012-12-18 13:00:00       4        0           1        1  20.50  24.240        42    19.0012      51         235    286\n",
      "\n",
      "[5578 rows x 12 columns]\n",
      "            season      holiday   workingday      weather         temp        atemp     humidity    windspeed       casual   registered        count\n",
      "count  5578.000000  5578.000000  5578.000000  5578.000000  5578.000000  5578.000000  5578.000000  5578.000000  5578.000000  5578.000000  5578.000000\n",
      "mean      2.688598     0.028505     0.700968     1.398888    26.726737    30.582279    61.620832    12.528940    54.945142   193.190749   248.135891\n",
      "std       0.735885     0.166425     0.457875     0.626570     4.121391     4.479246    18.871654     7.779917    58.540578   163.428912   197.864119\n",
      "min       1.000000     0.000000     0.000000     1.000000    20.500000    12.120000     8.000000     0.000000     0.000000     0.000000     1.000000\n",
      "25%       2.000000     0.000000     0.000000     1.000000    22.960000    26.515000    47.000000     7.001500    13.000000    73.000000    92.000000\n",
      "50%       3.000000     0.000000     1.000000     1.000000    26.240000    31.060000    62.000000    11.001400    38.000000   162.000000   211.000000\n",
      "75%       3.000000     0.000000     1.000000     2.000000    29.520000    33.335000    77.000000    16.997900    74.000000   264.000000   361.000000\n",
      "max       4.000000     1.000000     1.000000     3.000000    41.000000    45.455000   100.000000    56.996900   367.000000   886.000000   977.000000\n"
     ]
    }
   ],
   "source": [
    "# data filter #1 단일조건문\n",
    "\n",
    "df_train_filterd_1 = df_train[df_train['temp']>20]\n",
    "print(df_train_filterd_1)\n",
    "print(df_train_filterd_1.describe())"
   ]
  },
  {
   "cell_type": "code",
   "execution_count": null,
   "metadata": {},
   "outputs": [],
   "source": [
    "# data filter #2 복수조건문 and\n",
    "\n",
    "\n",
    "and, or \n",
    "\n",
    "& => and\n",
    "| => or\n",
    "\n",
    "\n",
    "\n",
    "df_train_filterd_2 = df_train[(df_train['temp']>20) & (df_train['temp']<30) ]\n",
    "print(df_train_filterd_2)\n",
    "print(df_train_filterd_2.describe())"
   ]
  },
  {
   "cell_type": "code",
   "execution_count": null,
   "metadata": {},
   "outputs": [],
   "source": [
    "# data filter #3 복수조건문 or\n",
    "\n",
    "df_train_filterd_3 = df_train[(df_train['temp']<20) | (df_train['temp']>30) ]\n",
    "print(df_train_filterd_3)\n",
    "print(df_train_filterd_3.describe())"
   ]
  },
  {
   "cell_type": "code",
   "execution_count": null,
   "metadata": {},
   "outputs": [],
   "source": [
    "# data filter #4 복수조건문 and or 결합\n",
    "\n",
    "df_train_filterd_4 = df_train[((df_train['temp']<20) | (df_train['temp']>30)) \n",
    "                              & (df_train['workingday']==0) ]\n",
    "print(df_train_filterd_4)\n",
    "print(df_train_filterd_4.describe())"
   ]
  },
  {
   "cell_type": "code",
   "execution_count": 41,
   "metadata": {},
   "outputs": [
    {
     "name": "stdout",
     "output_type": "stream",
     "text": [
      "최고온도 41.0\n",
      "최저온도 0.82\n",
      "\n",
      "최고온도 41.0\n",
      "최저온도 0.82\n",
      "\n",
      "     temp  temperature_minmax_scaled custom_string\n",
      "0    9.84                   0.224490              \n",
      "1    9.02                   0.204082              \n",
      "2    9.02                   0.204082              \n",
      "3    9.84                   0.224490              \n",
      "4    9.84                   0.224490              \n",
      "5    9.84                   0.224490              \n",
      "6    9.02                   0.204082              \n",
      "7    8.20                   0.183673              \n",
      "8    9.84                   0.224490              \n",
      "9   13.12                   0.306122              \n",
      "10  15.58                   0.367347              \n",
      "11  14.76                   0.346939              \n",
      "12  17.22                   0.408163              \n",
      "13  18.86                   0.448980              \n",
      "14  18.86                   0.448980              \n",
      "15  18.04                   0.428571              \n",
      "16  17.22                   0.408163              \n",
      "17  18.04                   0.428571              \n",
      "18  17.22                   0.408163              \n",
      "19  17.22                   0.408163              \n",
      "       temp  temperature_minmax_scaled custom_string\n",
      "5499   0.82                   0.000000              \n",
      "5495   0.82                   0.000000              \n",
      "5501   0.82                   0.000000              \n",
      "5500   0.82                   0.000000              \n",
      "5498   0.82                   0.000000              \n",
      "...     ...                        ...           ...\n",
      "8309  39.36                   0.959184              \n",
      "8308  39.36                   0.959184              \n",
      "8307  39.36                   0.959184              \n",
      "8310  39.36                   0.959184              \n",
      "8311  41.00                   1.000000              \n",
      "\n",
      "[10886 rows x 3 columns]\n"
     ]
    }
   ],
   "source": [
    "# 기존 컬럼들을 가공해서 새로운 컬럼 만들기\n",
    "\n",
    "\n",
    "df_train_copy = df_train.copy()\n",
    "\n",
    "# MIN MAX 스케일링온도값 만들어주기\n",
    "df_train_copy['temperature_minmax_scaled']=  (df_train_copy['temp'] - df_train_copy['temp'].min()) / (df_train_copy['temp'].max() - df_train_copy['temp'].min())\n",
    "\n",
    "# 임의값 만들어주기\n",
    "df_train_copy['custom_string'] = ''\n",
    "\n",
    "print('최고온도', df_train_copy['temp'].max())\n",
    "print('최저온도', df_train_copy['temp'].min())\n",
    "print('')\n",
    "\n",
    "# STRING FORMATTING\n",
    "print('최고온도 %s'%(df_train_copy['temp'].max()))\n",
    "print('최저온도 %s'%(df_train_copy['temp'].min()))\n",
    "print('')\n",
    "\n",
    "\n",
    "print(df_train_copy[['temp', 'temperature_minmax_scaled', 'custom_string']].head(20))\n",
    "\n",
    "\n",
    "\n",
    "print(df_train_copy[['temp', 'temperature_minmax_scaled', 'custom_string']].sort_values(by='temperature_minmax_scaled', ascending=True))\n",
    "\n",
    "\n"
   ]
  },
  {
   "cell_type": "code",
   "execution_count": null,
   "metadata": {},
   "outputs": [],
   "source": []
  }
 ],
 "metadata": {
  "kernelspec": {
   "display_name": "Python 3",
   "language": "python",
   "name": "python3"
  },
  "language_info": {
   "codemirror_mode": {
    "name": "ipython",
    "version": 3
   },
   "file_extension": ".py",
   "mimetype": "text/x-python",
   "name": "python",
   "nbconvert_exporter": "python",
   "pygments_lexer": "ipython3",
   "version": "3.6.12"
  }
 },
 "nbformat": 4,
 "nbformat_minor": 4
}
